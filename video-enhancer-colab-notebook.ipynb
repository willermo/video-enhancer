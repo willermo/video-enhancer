{
  "nbformat": 4,
  "nbformat_minor": 0,
  "metadata": {
    "colab": {
      "private_outputs": true,
      "provenance": [],
      "gpuType": "T4",
      "authorship_tag": "ABX9TyMW0aIzKk0AeZ9gKGRuPVCS",
      "include_colab_link": true
    },
    "kernelspec": {
      "name": "python3",
      "display_name": "Python 3"
    },
    "language_info": {
      "name": "python"
    },
    "accelerator": "GPU"
  },
  "cells": [
    {
      "cell_type": "markdown",
      "metadata": {
        "id": "view-in-github",
        "colab_type": "text"
      },
      "source": [
        "<a href=\"https://colab.research.google.com/github/willermo/video-enhancer/blob/main/Video_enhancer.ipynb\" target=\"_parent\"><img src=\"https://colab.research.google.com/assets/colab-badge.svg\" alt=\"Open In Colab\"/></a>"
      ]
    },
    {
      "cell_type": "markdown",
      "source": [
        "# Video enhancer pipeline\n",
        "\n",
        "Automated AI Video Enhancement and Upscaling Pipeline.\n",
        "\n",
        "This script provides a complete, end-to-end solution for restoring low-quality\n",
        "videos. It is designed to fix common issues like blurriness, compression\n",
        "artifacts, and low-resolution faces by using a 2-stage AI process:\n",
        "\n",
        "1.  **Real-ESRGAN:** Upscales the video resolution (default 4x), enhancing\n",
        "    general texture and detail.\n",
        "2.  **GFPGAN:** Performs a second pass to specifically identify and restore\n",
        "    human faces, fixing \"waxy\" or blurry features into a realistic result.\n",
        "\n",
        "## Python 3.10 interpreter installation\n",
        "\n",
        "To satisfy the dependencies we must use Python 3.10\n",
        "\n",
        "In future we will try to compose a more up-to-date dependencies hierarchy, but for now, we are good as we are :)"
      ],
      "metadata": {
        "id": "LvSx2iCvGjV6"
      }
    },
    {
      "cell_type": "code",
      "execution_count": null,
      "metadata": {
        "id": "lYzzZAYcGEz4"
      },
      "outputs": [],
      "source": [
        "# Install Python 3.10\n",
        "!echo \"--- Checking GPU status ---\"\n",
        "!nvidia-smi\n",
        "\n",
        "!echo \"--- Installing Python 3.10 and venv ---\"\n",
        "# We add \"quiet\" flags (-qq) to keep the output clean\n",
        "!sudo apt-get update -qq\n",
        "!sudo apt-get install -y python3.10 python3.10-venv -qq\n",
        "\n",
        "!echo \"--- Setup complete ---\""
      ]
    },
    {
      "cell_type": "markdown",
      "source": [
        "## Cloning GitHub Repository\n",
        "\n",
        "This will pull the entire project (enhance.py, requirements.txt, etc.) into the Colab environment."
      ],
      "metadata": {
        "id": "ppGKzZcdHo2J"
      }
    },
    {
      "cell_type": "code",
      "source": [
        "# Clone Your Repository\n",
        "!echo \"--- Cloning project from GitHub ---\"\n",
        "!git clone https://github.com/willermo/video-enhancer.git\n",
        "\n",
        "# Move into the new project directory\n",
        "%cd video-enhancer\n",
        "\n",
        "!echo \"--- Project cloned successfully ---\""
      ],
      "metadata": {
        "id": "CJ0QfxpjHd83"
      },
      "execution_count": null,
      "outputs": []
    },
    {
      "cell_type": "markdown",
      "source": [
        "## Install Dependencies\n",
        "This cell creates the Python 3.10 virtual environment and installs all the correct dependencies from the requirements.txt file."
      ],
      "metadata": {
        "id": "IbMgXE7-IKBP"
      }
    },
    {
      "cell_type": "code",
      "source": [
        "# Create venv and install requirements\n",
        "!echo \"--- Creating Python 3.10 venv ---\"\n",
        "!python3.10 -m venv venv\n",
        "\n",
        "!echo \"--- Activating venv and installing dependencies (this may take 2-3 minutes) ---\"\n",
        "# This activates the venv AND runs pip install in one line\n",
        "!source venv/bin/activate && pip install -r requirements.txt\n",
        "\n",
        "!echo \"--- Environment is ready ---\""
      ],
      "metadata": {
        "id": "u_S8ydNKH26p"
      },
      "execution_count": null,
      "outputs": []
    },
    {
      "cell_type": "markdown",
      "source": [
        "## ⚠️ MANUAL - Upload Your Video Chunk\n",
        "This is a manual step.\n",
        "\n",
        "In the file sidebar on the left, navigate inside the `video-enhancer` directory.\n",
        "\n",
        "Drag and drop your first video chunk (e.g., `chunk_01.mkv`) into that directory.\n",
        "\n",
        "Wait for the upload to complete.\n",
        "\n",
        "(You can use the `scripts/split_video.sh` on your local machine to create these chunks)"
      ],
      "metadata": {
        "id": "vkobb11iIZMK"
      }
    },
    {
      "cell_type": "markdown",
      "source": [
        "## Run the Enhancement (The GPU Part)\n",
        "This is the main event. This command activates the `venv` and runs the `enhance.py` script. It will automatically detect the NVIDIA GPU.\n",
        "\n",
        "Note: We do not use the `--parallel` flag, as we want the script to run in its default, single-threaded GPU mode."
      ],
      "metadata": {
        "id": "iBnePqueIqEK"
      }
    },
    {
      "cell_type": "code",
      "source": [
        "# Run the script\n",
        "\n",
        "# ---\n",
        "# !!!\n",
        "# !!! Rename INPUT_FILE and OUTPUT file appropriately\n",
        "# !!!\n",
        "%env INPUT_FILE=<input_filename>\n",
        "%env OUTPUT_FILE=<output_filename>\n",
        "# ---\n",
        "\n",
        "!echo \"--- Starting AI Enhancement Pipeline ---\"\n",
        "!echo \"--- (Approx. 3 hour for a 4-min chunk on a T4) ---\"\n",
        "\n",
        "!source venv/bin/activate && python enhance.py \\\n",
        "    --input $INPUT_FILE \\\n",
        "    --output $OUTPUT_FILE\n",
        "\n",
        "!echo \"--- Processing complete! Your file is ready. ---\""
      ],
      "metadata": {
        "id": "vMT28V6HIz0s"
      },
      "execution_count": null,
      "outputs": []
    },
    {
      "cell_type": "markdown",
      "source": [
        "## ⚠️ MANUAL - Download Your Restored File\n",
        "\n",
        "In the file sidebar, click the \"Refresh\" button.\n",
        "\n",
        "You will see your new file (e.g., `restored_chunk_01.mp4`) in the `video-enhancer` directory.\n",
        "\n",
        "Click the three dots next to the file and select **\"Download\"**."
      ],
      "metadata": {
        "id": "y1RfXDTwI1v0"
      }
    },
    {
      "cell_type": "markdown",
      "source": [
        "## ⚠️ MANUAL - Clean Up & Repeat\n",
        "After you've downloaded your file, run this cell to delete the large video files from Colab's temporary storage, freeing up space for your next chunk."
      ],
      "metadata": {
        "id": "kE5-amJ7JZHJ"
      }
    },
    {
      "cell_type": "code",
      "source": [
        "# Clean up for next chunk\n",
        "# !!!\n",
        "# !!! RENAME these files to match what you processed\n",
        "# !!!\n",
        "!rm INPUT_FILE\n",
        "!rm OUTPUT_FILE\n",
        "!echo \"--- Files cleaned up. Ready for next chunk. ---\""
      ],
      "metadata": {
        "id": "Wqo2AdqmJESv"
      },
      "execution_count": null,
      "outputs": []
    },
    {
      "cell_type": "markdown",
      "source": [
        "## Looping\n",
        "\n",
        "Repeat the flow:\n",
        "- **upload**\n",
        "- **enhance**\n",
        "- **download**\n"
      ],
      "metadata": {
        "id": "aGf75qIlJhrD"
      }
    },
    {
      "cell_type": "code",
      "source": [],
      "metadata": {
        "id": "bQqDBXhjJ46N"
      },
      "execution_count": null,
      "outputs": []
    }
  ]
}